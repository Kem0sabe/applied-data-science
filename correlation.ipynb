{
 "cells": [
  {
   "cell_type": "code",
   "execution_count": 12,
   "metadata": {},
   "outputs": [],
   "source": [
    "import pandas as pd\n",
    "import numpy as np"
   ]
  },
  {
   "cell_type": "code",
   "execution_count": 13,
   "metadata": {},
   "outputs": [],
   "source": [
    "df = pd.read_csv(\"./data/consumption_temp.csv\")"
   ]
  },
  {
   "cell_type": "code",
   "execution_count": 14,
   "metadata": {},
   "outputs": [
    {
     "data": {
      "text/html": [
       "<div>\n",
       "<style scoped>\n",
       "    .dataframe tbody tr th:only-of-type {\n",
       "        vertical-align: middle;\n",
       "    }\n",
       "\n",
       "    .dataframe tbody tr th {\n",
       "        vertical-align: top;\n",
       "    }\n",
       "\n",
       "    .dataframe thead th {\n",
       "        text-align: right;\n",
       "    }\n",
       "</style>\n",
       "<table border=\"1\" class=\"dataframe\">\n",
       "  <thead>\n",
       "    <tr style=\"text-align: right;\">\n",
       "      <th></th>\n",
       "      <th>time</th>\n",
       "      <th>location</th>\n",
       "      <th>consumption</th>\n",
       "      <th>temperature</th>\n",
       "    </tr>\n",
       "  </thead>\n",
       "  <tbody>\n",
       "    <tr>\n",
       "      <th>0</th>\n",
       "      <td>2022-04-07 21:00:00</td>\n",
       "      <td>bergen</td>\n",
       "      <td>1.113325</td>\n",
       "      <td>-0.3</td>\n",
       "    </tr>\n",
       "    <tr>\n",
       "      <th>1</th>\n",
       "      <td>2022-04-07 21:00:00</td>\n",
       "      <td>oslo</td>\n",
       "      <td>4.092830</td>\n",
       "      <td>1.0</td>\n",
       "    </tr>\n",
       "    <tr>\n",
       "      <th>2</th>\n",
       "      <td>2022-04-07 21:00:00</td>\n",
       "      <td>stavanger</td>\n",
       "      <td>2.057858</td>\n",
       "      <td>1.3</td>\n",
       "    </tr>\n",
       "    <tr>\n",
       "      <th>3</th>\n",
       "      <td>2022-04-07 21:00:00</td>\n",
       "      <td>tromsø</td>\n",
       "      <td>1.246582</td>\n",
       "      <td>-3.9</td>\n",
       "    </tr>\n",
       "    <tr>\n",
       "      <th>4</th>\n",
       "      <td>2022-04-07 21:00:00</td>\n",
       "      <td>trondheim</td>\n",
       "      <td>1.970098</td>\n",
       "      <td>-2.8</td>\n",
       "    </tr>\n",
       "    <tr>\n",
       "      <th>...</th>\n",
       "      <td>...</td>\n",
       "      <td>...</td>\n",
       "      <td>...</td>\n",
       "      <td>...</td>\n",
       "    </tr>\n",
       "    <tr>\n",
       "      <th>49489</th>\n",
       "      <td>2023-04-02 21:00:00</td>\n",
       "      <td>helsingfors</td>\n",
       "      <td>6.333000</td>\n",
       "      <td>-1.1</td>\n",
       "    </tr>\n",
       "    <tr>\n",
       "      <th>49490</th>\n",
       "      <td>2023-04-02 21:00:00</td>\n",
       "      <td>oslo</td>\n",
       "      <td>12.134655</td>\n",
       "      <td>-1.1</td>\n",
       "    </tr>\n",
       "    <tr>\n",
       "      <th>49491</th>\n",
       "      <td>2023-04-02 21:00:00</td>\n",
       "      <td>stavanger</td>\n",
       "      <td>5.622820</td>\n",
       "      <td>0.5</td>\n",
       "    </tr>\n",
       "    <tr>\n",
       "      <th>49492</th>\n",
       "      <td>2023-04-02 21:00:00</td>\n",
       "      <td>tromsø</td>\n",
       "      <td>2.018333</td>\n",
       "      <td>-2.5</td>\n",
       "    </tr>\n",
       "    <tr>\n",
       "      <th>49493</th>\n",
       "      <td>2023-04-02 21:00:00</td>\n",
       "      <td>trondheim</td>\n",
       "      <td>3.749047</td>\n",
       "      <td>-3.8</td>\n",
       "    </tr>\n",
       "  </tbody>\n",
       "</table>\n",
       "<p>49494 rows × 4 columns</p>\n",
       "</div>"
      ],
      "text/plain": [
       "                      time     location  consumption  temperature\n",
       "0      2022-04-07 21:00:00       bergen     1.113325         -0.3\n",
       "1      2022-04-07 21:00:00         oslo     4.092830          1.0\n",
       "2      2022-04-07 21:00:00    stavanger     2.057858          1.3\n",
       "3      2022-04-07 21:00:00       tromsø     1.246582         -3.9\n",
       "4      2022-04-07 21:00:00    trondheim     1.970098         -2.8\n",
       "...                    ...          ...          ...          ...\n",
       "49489  2023-04-02 21:00:00  helsingfors     6.333000         -1.1\n",
       "49490  2023-04-02 21:00:00         oslo    12.134655         -1.1\n",
       "49491  2023-04-02 21:00:00    stavanger     5.622820          0.5\n",
       "49492  2023-04-02 21:00:00       tromsø     2.018333         -2.5\n",
       "49493  2023-04-02 21:00:00    trondheim     3.749047         -3.8\n",
       "\n",
       "[49494 rows x 4 columns]"
      ]
     },
     "execution_count": 14,
     "metadata": {},
     "output_type": "execute_result"
    }
   ],
   "source": [
    "df"
   ]
  },
  {
   "cell_type": "code",
   "execution_count": 15,
   "metadata": {},
   "outputs": [
    {
     "name": "stderr",
     "output_type": "stream",
     "text": [
      "/var/folders/g1/sz_6p5c50mb_11wqn0n0dyzr0000gn/T/ipykernel_15780/2219261968.py:4: SettingWithCopyWarning: \n",
      "A value is trying to be set on a copy of a slice from a DataFrame\n",
      "\n",
      "See the caveats in the documentation: https://pandas.pydata.org/pandas-docs/stable/user_guide/indexing.html#returning-a-view-versus-a-copy\n",
      "  curr_loc.drop(columns=[\"location\", \"time\"], inplace=True)\n",
      "/var/folders/g1/sz_6p5c50mb_11wqn0n0dyzr0000gn/T/ipykernel_15780/2219261968.py:4: SettingWithCopyWarning: \n",
      "A value is trying to be set on a copy of a slice from a DataFrame\n",
      "\n",
      "See the caveats in the documentation: https://pandas.pydata.org/pandas-docs/stable/user_guide/indexing.html#returning-a-view-versus-a-copy\n",
      "  curr_loc.drop(columns=[\"location\", \"time\"], inplace=True)\n",
      "/var/folders/g1/sz_6p5c50mb_11wqn0n0dyzr0000gn/T/ipykernel_15780/2219261968.py:4: SettingWithCopyWarning: \n",
      "A value is trying to be set on a copy of a slice from a DataFrame\n",
      "\n",
      "See the caveats in the documentation: https://pandas.pydata.org/pandas-docs/stable/user_guide/indexing.html#returning-a-view-versus-a-copy\n",
      "  curr_loc.drop(columns=[\"location\", \"time\"], inplace=True)\n",
      "/var/folders/g1/sz_6p5c50mb_11wqn0n0dyzr0000gn/T/ipykernel_15780/2219261968.py:4: SettingWithCopyWarning: \n",
      "A value is trying to be set on a copy of a slice from a DataFrame\n",
      "\n",
      "See the caveats in the documentation: https://pandas.pydata.org/pandas-docs/stable/user_guide/indexing.html#returning-a-view-versus-a-copy\n",
      "  curr_loc.drop(columns=[\"location\", \"time\"], inplace=True)\n",
      "/var/folders/g1/sz_6p5c50mb_11wqn0n0dyzr0000gn/T/ipykernel_15780/2219261968.py:4: SettingWithCopyWarning: \n",
      "A value is trying to be set on a copy of a slice from a DataFrame\n",
      "\n",
      "See the caveats in the documentation: https://pandas.pydata.org/pandas-docs/stable/user_guide/indexing.html#returning-a-view-versus-a-copy\n",
      "  curr_loc.drop(columns=[\"location\", \"time\"], inplace=True)\n",
      "/var/folders/g1/sz_6p5c50mb_11wqn0n0dyzr0000gn/T/ipykernel_15780/2219261968.py:4: SettingWithCopyWarning: \n",
      "A value is trying to be set on a copy of a slice from a DataFrame\n",
      "\n",
      "See the caveats in the documentation: https://pandas.pydata.org/pandas-docs/stable/user_guide/indexing.html#returning-a-view-versus-a-copy\n",
      "  curr_loc.drop(columns=[\"location\", \"time\"], inplace=True)\n"
     ]
    }
   ],
   "source": [
    "locs = []\n",
    "for loc in df[\"location\"].unique():\n",
    "    curr_loc = df[df[\"location\"] == loc]\n",
    "    curr_loc.drop(columns=[\"location\", \"time\"], inplace=True)\n",
    "    curr_corr = curr_loc.corr()\n",
    "    loc = {\"location\": loc, \"corr\": curr_corr[\"consumption\"][\"temperature\"]}\n",
    "    locs.append(loc)"
   ]
  },
  {
   "cell_type": "code",
   "execution_count": 16,
   "metadata": {},
   "outputs": [
    {
     "data": {
      "text/plain": [
       "[{'location': 'bergen', 'corr': -0.7813525046800388},\n",
       " {'location': 'oslo', 'corr': -0.8618539884591135},\n",
       " {'location': 'stavanger', 'corr': -0.7817474722766322},\n",
       " {'location': 'tromsø', 'corr': -0.8634357182125024},\n",
       " {'location': 'trondheim', 'corr': -0.8377792381542437},\n",
       " {'location': 'helsingfors', 'corr': -0.5678630056821886}]"
      ]
     },
     "execution_count": 16,
     "metadata": {},
     "output_type": "execute_result"
    }
   ],
   "source": [
    "locs"
   ]
  },
  {
   "cell_type": "code",
   "execution_count": 18,
   "metadata": {},
   "outputs": [
    {
     "data": {
      "text/html": [
       "<div>\n",
       "<style scoped>\n",
       "    .dataframe tbody tr th:only-of-type {\n",
       "        vertical-align: middle;\n",
       "    }\n",
       "\n",
       "    .dataframe tbody tr th {\n",
       "        vertical-align: top;\n",
       "    }\n",
       "\n",
       "    .dataframe thead th {\n",
       "        text-align: right;\n",
       "    }\n",
       "</style>\n",
       "<table border=\"1\" class=\"dataframe\">\n",
       "  <thead>\n",
       "    <tr style=\"text-align: right;\">\n",
       "      <th></th>\n",
       "      <th>consumption</th>\n",
       "      <th>temperature</th>\n",
       "    </tr>\n",
       "  </thead>\n",
       "  <tbody>\n",
       "    <tr>\n",
       "      <th>consumption</th>\n",
       "      <td>1.000000</td>\n",
       "      <td>-0.436456</td>\n",
       "    </tr>\n",
       "    <tr>\n",
       "      <th>temperature</th>\n",
       "      <td>-0.436456</td>\n",
       "      <td>1.000000</td>\n",
       "    </tr>\n",
       "  </tbody>\n",
       "</table>\n",
       "</div>"
      ],
      "text/plain": [
       "             consumption  temperature\n",
       "consumption     1.000000    -0.436456\n",
       "temperature    -0.436456     1.000000"
      ]
     },
     "execution_count": 18,
     "metadata": {},
     "output_type": "execute_result"
    }
   ],
   "source": [
    "df.drop(columns=[\"time\", \"location\"], inplace=True)\n",
    "general_corr = df.corr()\n",
    "general_corr"
   ]
  },
  {
   "cell_type": "code",
   "execution_count": null,
   "metadata": {},
   "outputs": [],
   "source": []
  }
 ],
 "metadata": {
  "kernelspec": {
   "display_name": "ml",
   "language": "python",
   "name": "python3"
  },
  "language_info": {
   "codemirror_mode": {
    "name": "ipython",
    "version": 3
   },
   "file_extension": ".py",
   "mimetype": "text/x-python",
   "name": "python",
   "nbconvert_exporter": "python",
   "pygments_lexer": "ipython3",
   "version": "3.11.5"
  }
 },
 "nbformat": 4,
 "nbformat_minor": 2
}
